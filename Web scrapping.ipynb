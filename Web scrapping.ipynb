{
 "cells": [
  {
   "cell_type": "code",
   "execution_count": 2,
   "metadata": {},
   "outputs": [],
   "source": [
    "from bs4 import BeautifulSoup\n",
    "import requests\n",
    "import re"
   ]
  },
  {
   "cell_type": "code",
   "execution_count": 25,
   "metadata": {
    "scrolled": true
   },
   "outputs": [
    {
     "name": "stdout",
     "output_type": "stream",
     "text": [
      "garrett turbochargers\n"
     ]
    }
   ],
   "source": [
    "former = \"https://www.google.com/search?q=\"\n",
    "search = input()\n",
    "search = search.replace(' ', '+')\n",
    "later = \"&client=firefox-b-d&source=lnms&tbm=isch&sa=X&ved=2ahUKEwiNzOPfoY_xAhV-zzgGHY9vAtcQ_AUoAnoECAEQBA&biw=1366&bih=654\"\n",
    "URL = former + search + later\n",
    "r = requests.get(URL)\n",
    "soup = BeautifulSoup(r.content, \"html5lib\")"
   ]
  },
  {
   "cell_type": "code",
   "execution_count": 26,
   "metadata": {
    "scrolled": true
   },
   "outputs": [],
   "source": [
    "i = 20\n",
    "for image in soup.findAll(\"img\"):\n",
    "    if i == 20:\n",
    "        i += 1\n",
    "        continue\n",
    "    link = image['src']\n",
    "    response = requests.get(link)\n",
    "    imageName = \"turbochargers/\"+str(i)+\".jpg\"\n",
    "    with open(imageName, \"wb\") as file:\n",
    "        file.write(response.content)\n",
    "    i += 1"
   ]
  },
  {
   "cell_type": "code",
   "execution_count": null,
   "metadata": {},
   "outputs": [],
   "source": []
  }
 ],
 "metadata": {
  "kernelspec": {
   "display_name": "Python 3",
   "language": "python",
   "name": "python3"
  },
  "language_info": {
   "codemirror_mode": {
    "name": "ipython",
    "version": 3
   },
   "file_extension": ".py",
   "mimetype": "text/x-python",
   "name": "python",
   "nbconvert_exporter": "python",
   "pygments_lexer": "ipython3",
   "version": "3.7.7"
  }
 },
 "nbformat": 4,
 "nbformat_minor": 2
}
